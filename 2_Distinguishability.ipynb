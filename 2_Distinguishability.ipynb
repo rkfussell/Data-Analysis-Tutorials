{
 "cells": [
  {
   "cell_type": "markdown",
   "metadata": {},
   "source": [
    "## Tutorial 3: Distinguishability\n",
    "Developed by Rebeckah Fussell for Cornell Physics Labs."
   ]
  },
  {
   "cell_type": "markdown",
   "metadata": {},
   "source": [
    "In this tutorial we will continue to apply the concepts of mean, standard deviation, and standard uncertainty of the mean. We will also learn about how to compare the means of different data sets and test for distinguishability.\n",
    "\n",
    "Before we get started, let's load some packages and define the functions for standard deviation and standard uncertainty of the mean. These functions are identical to the ones in the previous tutorial.\n",
    "\n",
    "Make sure to run the cell below before proceeding (SHIFT + ENTER). As always, remember code cells build on eachother, so run each in order. "
   ]
  },
  {
   "cell_type": "code",
   "execution_count": null,
   "metadata": {},
   "outputs": [],
   "source": [
    "import numpy as np\n",
    "%matplotlib notebook\n",
    "import matplotlib.pyplot as plt\n",
    "%matplotlib notebook\n",
    "from ipywidgets import *\n",
    "def standard_deviation(data):\n",
    "    N = len(data)\n",
    "    return np.sqrt(np.sum((data - np.mean(data))**2)/(N-1))\n",
    "\n",
    "def standard_unc_of_mean(data):\n",
    "    N = len(data)\n",
    "    return standard_deviation(data) / np.sqrt(N)"
   ]
  },
  {
   "cell_type": "markdown",
   "metadata": {},
   "source": [
    "In the uncertainty tutorial we talked about taking repeated measurements of a phenomenon, and that we expect to see a distribution of values around the mean.  On average, we would expect to see 68% of our measurements falling within one standard deviation of the mean.  If we take many such sets of measurements, we would expect the mean of each set to fall within one uncertainty of the mean 68% of the time.  \n",
    "\n",
    "\n",
    "Often we need to determine if the means of two data sets of measurements are coming from the same underlying phenomenon. It is possible that we are measuring two different phenomena.  It is also possible we are measuring the same phenomena, however, even if we are measuring the same phenomena when we take two different data sets, we would still expect to see some difference in the means of two different data sets.  For example, if we take several measurements of the period of a pendulum when released from 10 degrees, and several more measurements of the period at 20 degrees, we need a method to know if the average period is the same (and therefore we are measuring the same physical phenomenon) or different when released from the two angles. We are going to call this distinguishibility.  \n",
    "\n",
    "This method should:\n",
    "\n",
    "1. Take into account the difference between the means of the two data sets, such that a larger difference means the values are more distinguishable.\n",
    "2. Take into account the uncertainty of the means of the two data sets, such that the difference in the means is balanced by how well we know the measurements.\n",
    "3. Not depend on units.\n",
    "\n",
    "\n",
    "To make comparisons between two measurements with uncertainties $A \\pm \\delta A$ and $B \\pm \\delta B$, we use a quantity known as $t'$. This is defined as:\n",
    "\n",
    "$t' = |\\frac{A-B}{\\sqrt{\\delta A^2 + \\delta B^2}}|$. \n",
    "\n",
    "$A$ and $B$ might be the means for two sets of repeated measurements, such as our means of repeated measurements of the period of pendula released from 10 and 20 degrees. $\\delta$ should be read as \"uncertainty in\", so $\\delta A$ and $\\delta B$ are the uncertainties in the measurements A and B (*not* the uncertainty times the measurements).\n"
   ]
  },
  {
   "cell_type": "markdown",
   "metadata": {},
   "source": [
    "### 1.  Explain how the formula for $t^{\\prime}$ takes into account the three properties above.\n",
    "1. \n",
    "2. \n",
    "3. "
   ]
  },
  {
   "cell_type": "markdown",
   "metadata": {},
   "source": [
    "### 2.  a) Say we measure A = 2 ± 1 s and B = 8 ± 1 s. Intuitively, would you say that A and B are distinguishable or indistinguishable?\n",
    "\n",
    "### b) What about if the uncertainties were larger: are A= 2 ± 5 s and B= 8 ± 5 s distinguishable? \n",
    "\n",
    "### c) Run the code below to calculate the t' value for these two sets of measurements.  "
   ]
  },
  {
   "cell_type": "code",
   "execution_count": null,
   "metadata": {},
   "outputs": [],
   "source": [
    "def t_prime(A, dA, B, dB):\n",
    "    return abs(A - B) / np.sqrt(dA**2 + dB**2)\n",
    "\n",
    "\n",
    "# an example of using t_prime\n",
    "print(t_prime(2,1,8,1))\n",
    "\n",
    "# second example\n",
    "print(t_prime(2,5,8,5))"
   ]
  },
  {
   "cell_type": "markdown",
   "metadata": {},
   "source": [
    "## Exploring t'\n",
    "You can think of t' as telling us how far apart the means of the distributions are in \"units\" of uncertainty.  The larger the t' value, the less likely it is that the two sets of measurements came from the same distribution. Below, we have two sets of measurements (one in blue and one in orange), with properties you can control with the sliders.  They have a mean (m), a number of measurements (N) and each a standard deviation.  Run the code below, and try using the sliders.  "
   ]
  },
  {
   "cell_type": "code",
   "execution_count": null,
   "metadata": {},
   "outputs": [],
   "source": [
    "fig, ax=plt.subplots(1,1, figsize=(5,5))\n",
    "def sliders(m=.05, N=20, stdev1=.25, stdev2=.25):\n",
    "    ax.cla()\n",
    "    x=np.linspace(-1, 2, 1000)\n",
    "    ax.fill_between(x,np.e**(-x**2/stdev1**2),alpha=.5)\n",
    "    ax.fill_between(x,np.e**(-(x-m)**2/stdev2**2), alpha=.5)\n",
    "    ax.errorbar(0, 1, xerr=stdev1/np.sqrt(N), capsize=5)\n",
    "    ax.errorbar(m, 1, xerr=stdev2/np.sqrt(N), capsize=5)\n",
    "    ax.set_title(\"t'={}\".format(round(np.sqrt(N)*m/np.sqrt(stdev1**2+stdev2**2), 3)))\n",
    "    fig.canvas.draw_idle() \n",
    "    plt.tight_layout()   \n",
    "fig.show()       \n",
    "interact(sliders,m=(0,1,.01), N=(5,100), stdev1=(0,0.6,.01), stdev2=(0,0.6,.01) );  \n",
    "\n"
   ]
  },
  {
   "cell_type": "markdown",
   "metadata": {},
   "source": [
    "### 3.  a) What combination of factors causes t' to increase?  \n",
    "\n",
    "\n",
    "### b) What causes it to decrease?  \n",
    "\n",
    "### c) Does the difference in the mean have to change for t' to change?  \n"
   ]
  },
  {
   "attachments": {},
   "cell_type": "markdown",
   "metadata": {},
   "source": [
    "## Interpreting t' values\n",
    "\n",
    "If we have two sets of measurements of the same physical phenomenon, we would expect to see a t' value of approximately 1 on average. This is because, on average, most (68\\%) of our measurements should be within one standard deviation of the mean, and so any two measurements should almost always be approximately one standard deviation away from each other.\n",
    "\n",
    "After calculating $t'$ for two measurements, you can evaluate their disimilarity (or distinguishability) through the following interpretation:\n",
    "\n",
    "\n",
    "1.  $t'\\approx1$  If we have two sets of measurements and a t' value of approximately 1, then the sets are indistinguishible and they may represent the same physical phenomenon.   \n",
    "\n",
    "2.  $t'<<1$  If we have a t' value of much less than 1, then it is possible that either we overestimated our uncertainties, or that our current level of precision is not good enough for the phenomenon that we are trying to measure.  \n",
    "\n",
    "3.  $1\\lesssim t'<3$  This is a grey area.  It is still possible that our two sets of measurements are coming from the same phenomenon, but it is less likely than if our t' is somewhere close to 1. \n",
    "\n",
    "4.  $t' >3$ If our t' is greater than 3, then it is unlikely that our two sets of measurements were measuring the same phenomena.  This means that we have distinguished between two sets of physical phenomena.  \n",
    "\n",
    "\n",
    "NOTE: $|t'| \\le 1$ **does not** mean that A and B are the same. It only tells us that the given data cannot allow us to distinguish between the two sets. For example, if you do a better measurement and decrease the uncertainties, you might later uncover a difference between A and B. That is, poor precision may be hiding a subtle difference!"
   ]
  },
  {
   "cell_type": "markdown",
   "metadata": {},
   "source": [
    "### 4.  Based on these interpretations and your exploration with the sliders above, what do you think we should do next in each of these 4 scenarios?\n",
    "\n",
    "1.  $t'\\approx1$  \n",
    "\n",
    "2.  $t'<<1$ \n",
    "\n",
    "3.  $1\\lesssim t'<3$ \n",
    "\n",
    "4.  $t' >3$ "
   ]
  },
  {
   "cell_type": "markdown",
   "metadata": {},
   "source": [
    "## Example Problem\n",
    "\n",
    "Let's try an example problem. An experimenter measured the period of a pendulum at 10 degrees and 20 degrees using a simple stopwatch. They measured the time for the pendulumn to swing for one single period and conducted 14 trials for each angle. The data they collected is given in the first lines of code below. The code then generates a histogram so we can visualize the distribution of our data. Run the code cell below. "
   ]
  },
  {
   "cell_type": "code",
   "execution_count": null,
   "metadata": {},
   "outputs": [],
   "source": [
    "#enter pendulum period data\n",
    "plt.figure()\n",
    "ten_degs = np.array([1.23, 1.36, 1.35, 1.36, 1.30, 1.27, 1.30, 1.32, 1.26, 1.26, 1.38, 1.29, 1.29, 1.32])\n",
    "twenty_degs = np.array([1.37, 1.35, 1.38, 1.27, 1.33, 1.33, 1.26, 1.36, 1.36, 1.27, 1.29, 1.44, 1.29, 1.32])\n",
    "\n",
    "#plot distributions\n",
    "plt.hist(ten_degs,bins = 7)\n",
    "plt.title(\"Histogram of pendulum period at 10 degrees\")\n",
    "plt.ylabel('Counts')\n",
    "plt.xlabel('Period s')\n",
    "\n",
    "plt.figure();\n",
    "plt.hist(twenty_degs,bins = 7)\n",
    "plt.title(\"Histogram of pendulum period at 20 degrees\")\n",
    "plt.ylabel('Counts')\n",
    "plt.xlabel('Period s')\n",
    "plt.show()"
   ]
  },
  {
   "cell_type": "markdown",
   "metadata": {},
   "source": [
    "### 5. a) Calculate standard deviation of the 10 degree data set. *Hint: replace the dots with the name of the ten degree data array as it was defined in the previous cell.*"
   ]
  },
  {
   "cell_type": "code",
   "execution_count": null,
   "metadata": {},
   "outputs": [],
   "source": [
    "standard_deviation(...)"
   ]
  },
  {
   "cell_type": "markdown",
   "metadata": {},
   "source": [
    "### 5. b) Calculate standard deviation of the 20 degree data set."
   ]
  },
  {
   "cell_type": "code",
   "execution_count": null,
   "metadata": {},
   "outputs": [],
   "source": [
    "#write your function call here:"
   ]
  },
  {
   "cell_type": "markdown",
   "metadata": {},
   "source": [
    "Now we will shift to asking some questions about the experimenter's data set based on what you learned in class and in the statistics reading.\n",
    "\n",
    "### 6.  Based on the data, what is the uncertainty in the measurements of the period from **instrumental precision**? *Hint: scroll back up to where the* ten_degs *and* twenty_degs *arrays are defined above. Notice that all the data reports the same number of digits after the decimal point. What does that say about the precision of the timer?*"
   ]
  },
  {
   "cell_type": "markdown",
   "metadata": {},
   "source": [
    "### 7.  Calculate the uncertainty in a <u>*single*</u> trial of each set of measurements for the period of this pendulum from: i) ten degrees and ii) twenty degrees. *Hint: you will need to call one of the functions defined above (*<span style='font-family:Courier'>standard_deviation()</span>, <span style='font-family:Courier'>standard_unc_of_mean()</span>, or <span style='font-family:Courier'>t_prime()</span> *). Fill the parentheses with the name of the data set you want to make a calculation on.*"
   ]
  },
  {
   "cell_type": "code",
   "execution_count": null,
   "metadata": {},
   "outputs": [],
   "source": [
    "#write function call here:"
   ]
  },
  {
   "cell_type": "markdown",
   "metadata": {},
   "source": [
    "### 8.  Calculate the mean of each set of measurements of the period of this pendulum, including its uncertainty, from: i) ten degrees and ii) twenty degrees. We've provided a template, and you have to replace each ... with the relevant variable name or function call. "
   ]
  },
  {
   "cell_type": "code",
   "execution_count": null,
   "metadata": {},
   "outputs": [],
   "source": [
    "print(\"i) ten degrees:\")\n",
    "\n",
    "#edit two lines below\n",
    "mean_10 = np.mean(...)\n",
    "unc_10 = ...\n",
    "\n",
    "print(\"mean is \" + str(mean_10) + \" +/- \" + str(unc_10))"
   ]
  },
  {
   "cell_type": "code",
   "execution_count": null,
   "metadata": {},
   "outputs": [],
   "source": [
    "print(\"ii) twenty degrees:\")\n",
    "\n",
    "#edit two lines below\n",
    "mean_20 = ...\n",
    "unc_20 = ...\n",
    "\n",
    "print(\"mean is \" + str(mean_20) + \" +/- \" + str(unc_20))"
   ]
  },
  {
   "cell_type": "markdown",
   "metadata": {},
   "source": [
    "### 9.  Quantitatively compare the measurements of the period of this pendulum when released from 10 degrees and 20 degrees. Replace the ... with the relevant uncertainties. "
   ]
  },
  {
   "cell_type": "code",
   "execution_count": null,
   "metadata": {},
   "outputs": [],
   "source": [
    "print(t_prime(mean_10, ..., mean_20, ...))"
   ]
  },
  {
   "cell_type": "markdown",
   "metadata": {},
   "source": [
    "### 10. Interpret the results of your quantitative comparison in the previous question. Propose at least two next steps the experimenter could reasonably take based on these results. (See the Statistics Summary document or the previous homework tutorials for help).\n",
    "\n",
    "Interpretation:\n",
    "\n",
    "Next step 1:\n",
    "\n",
    "Next step 2:"
   ]
  },
  {
   "cell_type": "markdown",
   "metadata": {},
   "source": [
    "## Start doing your own data analysis\n",
    "\n",
    "You should have taken your own data sets in lab. Enter your data in to the top lines of code below. \n",
    "\n",
    "### 11. a) The rest of the code below gives you a template to start analyzing your data. Make a histogram of your data - does it look like what you expect? \n",
    "\n",
    "### b) Calculate the mean and uncertainty in the mean for your two data sets. Are they distinguishable?"
   ]
  },
  {
   "cell_type": "code",
   "execution_count": null,
   "metadata": {},
   "outputs": [],
   "source": [
    "#enter student data\n",
    "plt.figure()\n",
    "lab_ten_degs = np.array([..., ..., ...,]) #write your data here\n",
    "lab_twenty_degs = np.array([..., ..., ...,])\n",
    "\n",
    "#plot histograms\n",
    "plt.hist(lab_ten_degs)\n",
    "plt.figure();\n",
    "plt.hist(lab_twenty_degs)\n",
    "\n",
    "#calculate mean and uncertainty in the mean\n",
    "mean = np.mean(...)\n",
    "unc = standard_unc_of_mean(...)\n",
    "print(\"mean is \" + str(mean) + \" +/- \" + str(unc))\n",
    "\n",
    "#are they distinguishable?\n",
    "tp = t_prime(..., ..., ..., ...)\n",
    "print(\"t prime value is \" + str(tp))\n"
   ]
  },
  {
   "cell_type": "markdown",
   "metadata": {},
   "source": [
    "Save your notebook with all your answers to the questions, modified code cells, and output from each code cell. Submit your notebook by uploading it to the Gradescope assignment."
   ]
  }
 ],
 "metadata": {
  "kernelspec": {
   "display_name": "Python 3",
   "language": "python",
   "name": "python3"
  },
  "language_info": {
   "codemirror_mode": {
    "name": "ipython",
    "version": 3
   },
   "file_extension": ".py",
   "mimetype": "text/x-python",
   "name": "python",
   "nbconvert_exporter": "python",
   "pygments_lexer": "ipython3",
   "version": "3.7.4"
  }
 },
 "nbformat": 4,
 "nbformat_minor": 2
}

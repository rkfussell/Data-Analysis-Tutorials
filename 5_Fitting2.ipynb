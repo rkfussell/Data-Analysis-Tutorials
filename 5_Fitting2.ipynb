{
 "cells": [
  {
   "cell_type": "markdown",
   "metadata": {},
   "source": [
    "# Tutorial 5: Automatic Curve Fitting\n",
    "\n",
    "Developed by Megan Renz for Cornell Physics Labs.\n",
    "\n",
    "Fitting data by hand can be fun, but scientists fairly rarely do this in real life (anymore).   \n",
    "\n",
    "Before, we were looking for the values of the slope and intercept that gave us the smallest $\\chi^2$ given the data. This sounds like a minimization problem! We want the computer to do what you were doing with the sliders in the manual fitting task.  \n",
    "\n",
    "For linear fits, we can use simple derivatives to find the values of the slope and intercept that minimize the $\\chi^2$. (For a derivation of these expressions, see J.R. Taylor, \"An Introduction to Error Analysis\", Section 8.2.)\n",
    "\n",
    "As an example, let's say you did an experiment where you stretched a rubber band to 6 different extensions, 5 times each.  \n",
    "\n",
    "So, you have measurements that look like:  \n",
    "\n",
    "| Extension (cm) | Force Trial 1 (N) | Trial 2 (N) |  Trial 3 (N) |  Trial 4 (N) |  Trial 5 (N) | \n",
    "| --- | --- | --- | --- | --- | --- | \n",
    "| 1.0 |  1.03  | 1.147|  0.934 | 1.049 | 0.924| \n",
    "| 2.0 | 1.91 |  2.178 | 2.127 | 2.005  |1.963| \n",
    "| 3.0 | 3.065 | 3.107 | 3.099 | 3.135 | 3.089| \n",
    "| 4.0 | 3.98  | 3.983 | 4.003 | 4.07  | 4.055| \n",
    "| 5.0 | 5.041  |4.892 | 4.949|  5.055  |4.955| \n",
    "| 6.0 | 5.896  |6.066 | 5.89 |  6.136 | 6.08| \n",
    "\n",
    "\n",
    "You want to figure out how well Hooke's law describes the rubber band for the data that you took.  In order to do that, you are going to plot the data and fit a line to the points, just like in the manual fit.  However, this time, the computer is going to figure out the best fit slope and intercept for you!  \n",
    "\n",
    "This might seem like a difficult problem.  Do not worry, we do not expect you to derive any of this or write very much code.  To help you, we wrote a function that you can call to give you the best-fitting slope and intercept and give you graphs you can explore just like in the manual fitting tutorial.  This function (called autoFit) is available in a file called \n",
    "\n",
    "<span style= 'font-family:Courier'>utilities.ipynb<span style= 'font-family:Courier'>\n",
    "\n",
    "(if you do not have utilities.ipynb downloaded, download it now and put it in the same directory this file is in.)\n",
    "\n",
    "By running <span style= 'font-family:Courier'>%run ./utilities.ipynb</span>, we are running the file where the autoFit function is defined so that you can use it in your notebook.  \n",
    "\n",
    "Then, we run <span style= 'font-family:Courier'>help(autoFit)</span> to get an explaination on how it works.  We will walk through the most useful parts of the functionality later in the tutorial.  \n",
    "\n",
    "\n"
   ]
  },
  {
   "cell_type": "code",
   "execution_count": null,
   "metadata": {},
   "outputs": [],
   "source": [
    "%run ./utilities.ipynb\n",
    "help(autoFit)"
   ]
  },
  {
   "cell_type": "markdown",
   "metadata": {},
   "source": [
    "Now that we have the autoFit function available, let's try it out:  \n",
    "\n",
    "To make your life easier, the autoFit function can take in an array of y data that has multiple trials per row and then calculate the uncertainties and means for you.\n",
    "\n",
    "| Extension (cm) | Force Trial 1 (N) | Trial 2 (N) |  Trial 3 (N) |  Trial 4 (N) |  Trial 5 (N) | \n",
    "| --- | --- | --- | --- | --- | --- | \n",
    "| 1.0 |  1.03  | 1.147|  0.934 | 1.049 | 0.924| \n",
    "| 2.0 | 1.81 |  2.178 | 2.127 | 2.005  |1.963| \n",
    "| 3.0 | 3.265 | 3.107 | 3.499 | 3.135 | 2.889| \n",
    "| 4.0 | 3.7  | 3.983 | 4.003 | 4.07  | 4.055| \n",
    "| 5.0 | 5.041  |4.892 | 4.949|  5.055  |4.955| \n",
    "| 6.0 | 5.896  |6.366 | 5.89 |  6.136 | 6.08| \n",
    "\n",
    "(this is the same table as above, just reprinted for easier reference)\n",
    " \n",
    "\n",
    "### 1. a) Enter in the data in the variables $x$ and $y$ in the code cell below and then run the code block."
   ]
  },
  {
   "cell_type": "code",
   "execution_count": null,
   "metadata": {},
   "outputs": [],
   "source": [
    "x=[1.0,2.0,3.0,4.0,5.0,6.0]\n",
    "y=[[1.03  , 1.147,  0.934 , 1.049 , 0.924], \n",
    "   [1.81,2.178,2.127,2.005,1.963],\n",
    "   [3.265,3.107,3.499,3.135,...],\n",
    "   [3.7,3.983,...],\n",
    "   [...],\n",
    "   [...]]\n",
    "\n",
    "\n",
    "x=np.array(x)\n",
    "y=np.array(y)"
   ]
  },
  {
   "cell_type": "markdown",
   "metadata": {},
   "source": [
    "### b)  Fill in the title, $x$ axis labels, and $y$ axis labels by filling in the corresponding ... in the function call.  "
   ]
  },
  {
   "cell_type": "code",
   "execution_count": null,
   "metadata": {},
   "outputs": [],
   "source": [
    "autoFit(x=x, y=y,  title=\"...\", xaxis=\"...\", yaxis=\"...\" )"
   ]
  },
  {
   "cell_type": "markdown",
   "metadata": {},
   "source": [
    "The best fit slope and intercept, along with $\\chi^2$ are listed on the graph. The $\\delta$s are the uncertainties in the slope and intercept.   Checking \"fit\" means the line will automatically snap to the best fit line (and the sliders won't do anything). Unchecking \"fit\" allows you to manually change the fit line to compare different fit parameters.\n",
    "\n",
    "Now we can find the best slope and intercept automatically! "
   ]
  },
  {
   "cell_type": "markdown",
   "metadata": {},
   "source": [
    "### 2. What are the best fit slope and intercept?  What are the uncertainties in the slope ($\\delta_a$) and intercept ($\\delta_b$)?  "
   ]
  },
  {
   "cell_type": "markdown",
   "metadata": {},
   "source": [
    "### 3. What is $\\chi^2$ at the best fit slope and intercept? "
   ]
  },
  {
   "cell_type": "markdown",
   "metadata": {},
   "source": [
    "### 4. Does it appear that Hooke's Law describes your rubber band so far?  \n"
   ]
  },
  {
   "cell_type": "markdown",
   "metadata": {},
   "source": [
    "### 5. Try unchecking \"fit\" in order to move the sliders.  How much can you change the slope before the $\\chi^2$ is no longer small? How much can you change the intercept before the $\\chi^2$ is no longer small?  Does this agree with the uncertainties?  \n"
   ]
  },
  {
   "cell_type": "markdown",
   "metadata": {},
   "source": [
    "Let's explore that last question a bit.  You can move points around after drawing the graph if you call the autoFit function with the argument <span style= 'font-family:Courier'>movePoints=True</span>. Try calling the function again in the cell below, filling in the ...  It may take a second to finish drawing.   Now you can change the values of the points!  Try increasing the uncertainties on all of the points to .5. "
   ]
  },
  {
   "cell_type": "code",
   "execution_count": null,
   "metadata": {},
   "outputs": [],
   "source": [
    "autoFit(x=x, y=y, title=\"Force vs. Extension\", xaxis=\"Extension x (cm)\", yaxis=\"Force F (N)\", movePoints=True )"
   ]
  },
  {
   "cell_type": "markdown",
   "metadata": {},
   "source": [
    "### 6. What happens to $\\chi^2$ when you increase the uncertainties on the points?"
   ]
  },
  {
   "cell_type": "markdown",
   "metadata": {},
   "source": [
    "### 7. What happens to the uncertainties in the slope and intercept when you increase the uncertainties on the points?  "
   ]
  },
  {
   "cell_type": "markdown",
   "metadata": {},
   "source": [
    "Let's say you keep taking data for the rubber band, but you increase the extensions.  \n",
    "\n",
    "| Extension (cm) | Force Trial 1 (N) | Trial 2 (N) |  Trial 3 (N) |  Trial 4 (N) |  Trial 5 (N) | \n",
    "| --- | --- | --- | --- | --- | --- | \n",
    "| 1.0 |  1.03  | 1.147|  0.934 | 1.049 | 0.924| \n",
    "| 2.0 | 1.81 |  2.178 | 2.127 | 2.005  |1.963| \n",
    "| 3.0 | 3.265 | 3.107 | 3.499 | 3.135 | 2.889| \n",
    "| 4.0 | 3.7  | 3.983 | 4.003 | 4.07  | 4.055| \n",
    "| 5.0 | 5.041  |4.892 | 4.949|  5.055  |4.955| \n",
    "| 6.0 | 5.896  |6.366 | 5.89 |  6.136 | 6.08|\n",
    "| 7.0 | 7.064|  7.03  | 7.087 | 7.073 | 7.06| \n",
    "| 8.0 |  9.841 | 9.676 | 9.837 | 9.946 | 9.86 | \n",
    "| 9.0 | 13.019| 12.861 |12.932 |13.332 |13.071| \n",
    "\n",
    "### 8. Fill in $x$ and $y$ again including the new data, and try plotting the data below, using <span style= 'font-family:Courier'>movePoints=True</span>.    \n"
   ]
  },
  {
   "cell_type": "code",
   "execution_count": null,
   "metadata": {
    "scrolled": false
   },
   "outputs": [],
   "source": [
    "x=[1.0,2.0,3.0,4.0,5.0,6.0,7.0,8.0,9.0]\n",
    "y=[[1.03  , 1.147,  0.934 , 1.049 , 0.924], \n",
    "   [1.81,2.178,2.127,2.005,1.963],\n",
    "   [3.265,3.107,3.499,3.135,2.889],\n",
    "   [3.7,3.983,4.003,4.07,4.055],\n",
    "   [5.041,4.892,4.949,5.055,4.955],\n",
    "   [5.896,6.366,5.89,6.136,6.08],\n",
    "   [7.064,7.03,7.087,...,...],\n",
    "   [...],\n",
    "   [...]]\n",
    "\n",
    "\n",
    "x=np.array(x)\n",
    "y=np.array(y)\n",
    "autoFit(x=x, y=y, title=\"Force vs. Extension\", xaxis=\"Extension x (cm)\", yaxis=\"Force F (N)\", movePoints=True)"
   ]
  },
  {
   "cell_type": "markdown",
   "metadata": {},
   "source": [
    "### 9. Now what is $\\chi^2$ and what does this say about whether Hooke's Law is descriptive of the rubber band for all the extensions?   \n"
   ]
  },
  {
   "cell_type": "markdown",
   "metadata": {},
   "source": [
    "### 10. Uncheck boxes to include only some of the points in the fit.  For which region of the graph does the rubber band appear to follow Hooke's Law?\n",
    "\n",
    "\n",
    "If you have already calculated the uncertainties or determined them some other way, you can give autoFit a list of means for y rather than a 2D matrix."
   ]
  },
  {
   "cell_type": "markdown",
   "metadata": {},
   "source": [
    "### 11. Give an example of a measurement you could do where you should not use repeated measurements to determine the uncertainty in y. \n",
    "\n",
    "You can set the uncertainties manually by including dy= in the autoFit call.  For example:  \n"
   ]
  },
  {
   "cell_type": "code",
   "execution_count": null,
   "metadata": {},
   "outputs": [],
   "source": [
    "x=[1,2,3,4,5,6]\n",
    "y=[1.2,2.5, 3.4, 4.1, 5.2, 6.7]\n",
    "dy=[.5,.5,.5,.5,.5,.5] \n",
    "x=np.array(x)\n",
    "y=np.array(y)\n",
    "dy=np.array(dy)\n",
    "autoFit(x,y,dy=dy,title=\"Force vs. Extension\", xaxis=\"Extension x (cm)\", yaxis=\"Force F (N)\" )"
   ]
  },
  {
   "cell_type": "markdown",
   "metadata": {},
   "source": [
    "Finally, you can input your data as a csv file.  \n",
    "Download the example file \"example.csv\" and put it in the same folder this tutorial is in.   Take a look at it.  \n",
    "\n",
    "The first column is the $x$ values, the second is the $y$ values, and the third is the $dy$ (uncertainty in $y$) values.  \n",
    "\n",
    "You can give autoFit this csv file using the argument <span style= 'font-family:Courier'>path=\"\\path\\to\\example.csv\"</span>.\n",
    "\n",
    "If the csv file is in the same folder, you can just use <span style= 'font-family:Courier'>path=\"example.csv\"</span>.\n",
    "\n",
    "\n",
    "### 12. Run the code below.  What are the best fit slope and intercept? \n"
   ]
  },
  {
   "cell_type": "code",
   "execution_count": null,
   "metadata": {},
   "outputs": [],
   "source": [
    "autoFit(path=\"example.csv\",title=\"Force vs. Extension\", xaxis=\"Extension x (cm)\", yaxis=\"Force F (N)\")"
   ]
  },
  {
   "cell_type": "markdown",
   "metadata": {},
   "source": [
    "You can use this method to input your data in the future.  It is important that you follow exactly the same format as the instructions in this tutorial, or else the function will not work.  \n",
    "\n",
    "When you want to use this <span style= 'font-family:Courier'>autoFit</span> function in the future, just run the line <span style= 'font-family:Courier'>%run ./utilities.ipynb</span> and then use the argument combination that fits your use case.\n",
    "\n",
    "The <span style= 'font-family:Courier'>utilities.ipynb</span> file also allows you to use some of the functions from previous tutorials: <span style= 'font-family:Courier'>standard_deviation()</span>, <span style= 'font-family:Courier'>standard_unc_of_mean()</span>, and <span style= 'font-family:Courier'>t_prime()</span>. When you do your own data analysis on your lab data, the utilities file can be a very useful resource. You can also run the <span style= 'font-family:Courier'>help()</span> function on these other functions.\n"
   ]
  },
  {
   "cell_type": "code",
   "execution_count": null,
   "metadata": {},
   "outputs": [],
   "source": [
    "t_prime(1.2,.1, 1.4, .1)"
   ]
  },
  {
   "cell_type": "code",
   "execution_count": null,
   "metadata": {},
   "outputs": [],
   "source": [
    "help(standard_deviation)\n",
    "help(standard_unc_of_mean)\n",
    "help(t_prime)\n",
    "help(autoFit)"
   ]
  },
  {
   "cell_type": "markdown",
   "metadata": {},
   "source": [
    "Save your notebook with all your answers to the questions, modified code cells, and output from each code cell. Submit your notebook by uploading it to the Gradescope assignment."
   ]
  }
 ],
 "metadata": {
  "kernelspec": {
   "display_name": "Python 3",
   "language": "python",
   "name": "python3"
  },
  "language_info": {
   "codemirror_mode": {
    "name": "ipython",
    "version": 3
   },
   "file_extension": ".py",
   "mimetype": "text/x-python",
   "name": "python",
   "nbconvert_exporter": "python",
   "pygments_lexer": "ipython3",
   "version": "3.7.4"
  }
 },
 "nbformat": 4,
 "nbformat_minor": 2
}

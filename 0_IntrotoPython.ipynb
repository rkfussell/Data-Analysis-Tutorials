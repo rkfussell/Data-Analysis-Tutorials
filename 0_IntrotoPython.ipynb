{
 "cells": [
  {
   "cell_type": "markdown",
   "metadata": {},
   "source": [
    "## Tutorial 1: Intro to Python\n",
    "\n",
    "Developed by Rebeckah Fussell for Cornell Physics Labs."
   ]
  },
  {
   "cell_type": "markdown",
   "metadata": {},
   "source": [
    "Welcome to your first physics lab tutorial! This first tutorial will focus on teaching you: i) the python skills you will need to complete these lab tutorials, and ii) how to submit your answers to both coding and short answer questions. \n",
    "\n",
    "In these tutorials, we will ask questions that ask you to run code and questions that ask you to type in a short answer. Each type of question will correspond to different kinds of cells: code cells and markdown cells. \n",
    "\n",
    "This is a markdown cell (click this text and see that a colored box appears around the whole markdown cell). A markdown cell will be used to display text and for you to answer short answer questions. You can double click on a markdown cell to edit the text in it or add text.\n",
    "\n",
    "Because we are used to filling in worksheets, answering questions in a markdown cell may be confusing at first. It may look like there is not enough space below question 1 to answer. But once you change this cell to edit mode (by double clicking), you can write whatever you want beneath the question and make as many new lines below the question as you need to answer the question. \n",
    "\n",
    "### 1. Double click this markdown cell. This changes the markdown cell to \"edit mode.\" Below this question, and in the same cell, type a few sentences that answer the question: what do you hope to get out of this lab course?  Full credit will be granted if this markdown cell is successfully edited to include a few sentences between this question and the text below. When you are done editing, press SHIFT + ENTER while this cell is selected to display your edits."
   ]
  },
  {
   "cell_type": "markdown",
   "metadata": {},
   "source": [
    "The cell below this is a code cell. To run the code in a code cell, click anywhere in the cell with your cursor (you should see a box around the cell when it is selected) and press SHIFT + ENTER. The output of that cell, if there is any, will appear below it. \n",
    "\n",
    "Important Note: As you work through this tutorial, make sure that you run every code cell you pass by in order. If you get an error message, the first thing you should check is if you have run every code cell above where you are working.\n",
    "\n",
    "### 2. Run the cell below. Full credit for this question will be granted for <span style= 'font-family:Courier'>hello world</span> printed beneath the code cell below. "
   ]
  },
  {
   "cell_type": "code",
   "execution_count": null,
   "metadata": {},
   "outputs": [],
   "source": [
    "print(\"hello world\") \n",
    "#lines in a code cell with a hashtag in front will not run so can be used to comment on what the code does"
   ]
  },
  {
   "cell_type": "markdown",
   "metadata": {},
   "source": [
    "## Variables\n",
    "\n",
    "We will use python code primarily to analyze our data in the lab. We often will use the same data for multiple analyses, so it is useful to store data or numbers in a variable, which we can easily refer to later.\n",
    "\n",
    "You can store variables in a letter or word using this symbol: <span style= 'font-family:Courier'>=</span> (called the <span style='color:Red'>assignment operator</span>). Variable names can be any combination of letters and numbers, like <span style= 'font-family:Courier'>hello</span> or <span style= 'font-family:Courier'>abcd1</span> or <span style= 'font-family:Courier'>m4n5</span>. Variable names cannot start with a number, cannot contain spaces or special characters, and cannot use a reserved word (If a word turns green when you type it, it is reserved. For example, <span style= 'font-family:Courier; color:Green'>print</span> is reserved.) \n",
    "\n",
    "### Example:\n",
    "To store the number <span style= 'font-family:Courier'>3</span> in the variable name <span style= 'font-family:Courier'>a</span>, type:\n",
    "\n",
    "<span style= 'font-family:Courier'>a = 3</span>\n",
    "\n",
    "If you are reading this in your head, read it as: <span style= 'font-family:Courier'>a</span> is assigned the value <span style= 'font-family:Courier'>3</span>. Typing <span style= 'font-family:Courier'>3 = a</span> would fail because it would try to store the value <span style= 'font-family:Courier'>a</span> in the invalid variable name <span style= 'font-family:Courier'>3</span>.\n",
    "\n",
    "<span style= 'font-family:Courier'>3 = a</span> is equivalent in math class, but in code the variable name must be on the left. Saying \"3 is assigned the value <span style= 'font-family:Courier'>a</span>\" doesn't make much sense. \n",
    "\n",
    "You can also store a phrase (or a *string*, which is a list of characters or anything that can be pressed on a keyboard, used largely to represent text) in a variable if you put it in quotes. For example, \n",
    "\n",
    "<span style= 'font-family:Courier'>my_phrase = \"your phrase here\"</span>\n",
    "\n",
    "If you forget the quotes, you will get an error, because it is not valid to store a string (or phrase) without quotes in a variable. In general, you can store strings in a variable but cannot store a variable in a string\n",
    "\n",
    "In Q2, you used the function <span style= 'font-family:Courier'>print()</span> to display this text: <span style= 'font-family:Courier'>hello world</span>. You can also use the function <span style= 'font-family:Courier'>print()</span> to display the information stored in a variable by putting the variable inside the parentheses:\n",
    "\n",
    "<span style= 'font-family:Courier'>print(variable_name)</span>\n",
    "\n",
    "If you have more than one <span style= 'font-family:Courier'>print()</span> call in a code block, each successive <span style= 'font-family:Courier'>print()</span> call will display a new line. "
   ]
  },
  {
   "cell_type": "markdown",
   "metadata": {},
   "source": [
    "### 3. Read the code cell below. What do you predict the output will look like? Full credit will be granted if there is a prediction below this question even if it is wrong."
   ]
  },
  {
   "cell_type": "markdown",
   "metadata": {},
   "source": [
    "### 4. Run the cell below. Does the output look like you expected? Full credit will be granted for an answer yes or no and if the proper output appears below the code cell."
   ]
  },
  {
   "cell_type": "code",
   "execution_count": null,
   "metadata": {},
   "outputs": [],
   "source": [
    "#let's do some variable assignments\n",
    "a = 3\n",
    "b = \"hello world\"\n",
    "\n",
    "#now let's try printing out some variables\n",
    "print(a)\n",
    "print(b)\n",
    "print(52)\n",
    "print(\"hi\")"
   ]
  },
  {
   "cell_type": "markdown",
   "metadata": {},
   "source": [
    "Note:  If you assign a value to a variable and then assign a new value to the variable, the previous value is replaced. For example: \n"
   ]
  },
  {
   "cell_type": "code",
   "execution_count": null,
   "metadata": {},
   "outputs": [],
   "source": [
    "a=2\n",
    "a=5\n",
    "print(a)"
   ]
  },
  {
   "cell_type": "markdown",
   "metadata": {},
   "source": [
    "## Arrays\n",
    "\n",
    "In addition to numbers and phrases, we can store another structure called an <span style='color:Red'> array </span> inside a variable. An array can store several numbers within the same variable. In this lab course, we will be storing our lab data in arrays. \n",
    "\n",
    "Say you measured the period of a pendulum 4 times and measured 3.1 s, 3.2 s, 3.0 s, and 3.1 s. You can store those measurements in an array, with each measurement separated by a comma.\n",
    "\n",
    "### 5. Run the code below to store these measurements in an array called *data*."
   ]
  },
  {
   "cell_type": "code",
   "execution_count": null,
   "metadata": {},
   "outputs": [],
   "source": [
    "import numpy as np #don't worry about this line for now, it will be explained in the packages section below. \n",
    "\n",
    "data = np.array([3.1, 3.2, 3.0, 3.1])\n",
    "# read as: \"data is assigned an array with 3.1, 3.2, 3.0, 3.1\"\n",
    "\n",
    "print(data)\n"
   ]
  },
  {
   "cell_type": "markdown",
   "metadata": {},
   "source": [
    "You may notice that <span style= 'font-family:Courier'>3.0</span> turned into <span style= 'font-family:Courier'>3.</span>, without the zero. Don't worry about this, it is just how python stores and displays whole numbers given as decimals.\n",
    "\n",
    "In addition to storing lists of measurements of a single variable, we'll often want to store pairs of measurements of two variables (say x and y values for making a graph).\n",
    "\n",
    "Below is a table of 6 values to be stored in the variable *x* and 6 values to be stored in the variable *y*. \n",
    "\n",
    "|x|y|\n",
    "|---|---|\n",
    "|1.1|4.3|\n",
    "|2.0|7.9|\n",
    "|3.3|12.5|\n",
    "|3.9|15.1|\n",
    "|4.8|19.2|\n",
    "|6.0|23.1|\n",
    "\n",
    "### 6. In the cell below, copy the data above into the array definitions for <span style= 'font-family:Courier'>x</span> and <span style= 'font-family:Courier'>y</span>, so that both arrays have 6 entries in one row and the order of the entries are preserved. When you run the cell, the full data table should be printed. \n",
    "\n",
    "The printed data table should appear below the code cell in this comma-free format:\n",
    "\n",
    "<span style= 'font-family:Courier'>[1.1 2.2 3. 4.4]</span>"
   ]
  },
  {
   "cell_type": "code",
   "execution_count": null,
   "metadata": {},
   "outputs": [],
   "source": [
    "x = np.array([1.1, 2.0,...]) #put data between the square brackets [], with each entry separated by a comma\n",
    "y = ... #finish this line\n",
    "\n",
    "print(x)\n",
    "print(y)"
   ]
  },
  {
   "cell_type": "markdown",
   "metadata": {},
   "source": [
    "Sometimes we have so much data that it is easier to import a separate file than to type each data point into an array.\n",
    "\n",
    "In these tutorials, we will be using Comma-Separated Values (CSV) files to store data. \n",
    "\n",
    "### 7. Carefully follow the instructions below to create a CSV file called \"IntrotoPython.csv\" that contains the same data as in the table in question 6. \n",
    "\n",
    "Here are three options for creating and storing data in a CSV file. Select whichever one is easiest for you. \n",
    "\n",
    "1. Put your data in a Google Sheets file. Name the document \"IntrotoPython\". To save your data in the .csv format from Google Sheets, select File -> Download -> Comma-separated values (.csv, current sheet). You might need to edit the file name after downloading so that it is simply \"IntrotoPython.csv\".\n",
    "\n",
    "2. Put your data in a Microsoft Excel file. Select File -> Save as... to name your document \"IntrotoPython\" and to select .csv as your file format from the drop down menu (do not use the default .xls or .xlsx format).\n",
    "\n",
    "3. Create your CSV file in Jupyter notebook. From the Jupyter notebook home page, select New -> Text File in the top right corner. This should open a new tab. Enter the data line by line, with a comma separating the x and y values, for example line 1 should read 1.1,4.3. Press enter after typing the data in each line to create all six rows. Name the file \"IntrotoPython.csv\".\n",
    "\n",
    "For a visual representation of each of the options above, look at IntrotoPython_createCSV_examples.pdf. \n",
    "\n",
    "**Note: For all tutorials in this class, only include the data values when you are making a CSV file. Additional items such as column titles or extraneously populated cells will cause an error.**\n",
    "\n",
    "\n",
    "Once you have created your CSV file, move it to the same folder on your computer as this tutorial. \n",
    "\n",
    "### 8. Run the code cell below to load your CSV file into this tutorial. "
   ]
  },
  {
   "cell_type": "code",
   "execution_count": null,
   "metadata": {},
   "outputs": [],
   "source": [
    "#don't worry about what this code means, just check that this method works\n",
    "#we will provide all code for loading CSVs in the future\n",
    "csv_data = []\n",
    "import csv\n",
    "file = open(\"IntrotoPython.csv\",encoding='utf-8-sig')\n",
    "reader = csv.reader(file)\n",
    "for row in reader:\n",
    "    csv_data.append(row)\n",
    "file.close()\n",
    "csv_data = np.array(csv_data)\n",
    "\n",
    "x = csv_data[:,0]\n",
    "y = csv_data[:,1]\n",
    "\n",
    "print(x)\n",
    "print(y)"
   ]
  },
  {
   "cell_type": "markdown",
   "metadata": {},
   "source": [
    "## Functions\n",
    "    \n",
    "A function is a pre-defined block of code that runs when you call it. As an example, we'll define a function called <span style= 'font-family:Courier'>make_waffles()</span>.\n",
    "\n",
    "Think of it like a recipe for your computer where <span style= 'font-family:Courier'>make_waffles()</span> will tell the computer to take in some ingredients, follow the recipe (the function), and output the finished breakfast food.\n",
    "\n",
    "In this class, you do not need to understand how to write your own functions. However, it is important that you understand how to use functions (that is, how to write a <span style='color:Red'> function call </span>).\n",
    "\n",
    "<span style= 'font-family:Courier'>print()</span> is an example of a function, which we have already used. It takes in a phrase, number, array, or variable (or possibly other things that we won't worry about so much in this class) and prints it to the screen, following instructions that were defined elsewhere. We do not need to run a function definition for <span style= 'font-family:Courier'>print()</span> because this function is built-in to the python language.\n",
    "\n",
    "To give a function ingredients (called <span style='color:Red'>arguments</span>), we put the ingredients in parenthesis next to the name of the function we are calling. For example:\n",
    "\n",
    "<span style= 'font-family:Courier'>print(\"This is the phrase I am giving to the function print\")</span>\n",
    "\n",
    "\n",
    "### 9. Practice calling the print function in the cell below, to print out your name to the screen. If you forget quotation marks, you will get an error. "
   ]
  },
  {
   "cell_type": "code",
   "execution_count": null,
   "metadata": {},
   "outputs": [],
   "source": [
    "print(...)"
   ]
  },
  {
   "cell_type": "markdown",
   "metadata": {},
   "source": [
    "Functions are defined using the key word <span style= 'font-family:Courier'>def</span>, followed by the name of the function, and a list of the <span style='color:Red'>parameters</span> that will go into the function (in parentheses).\n",
    "\n",
    "Below, we define the <span style= 'font-family:Courier'>make_waffles()</span> function, such that it will have two parameters: <span style= 'font-family:Courier'>flour</span> and <span style= 'font-family:Courier'>water</span>.\n",
    "\n",
    "### 10. Run the code cell below to define the  <span style= 'font-family:Courier'>make_waffles()</span> function, and the subsequent code cells as you work through the tutorial."
   ]
  },
  {
   "cell_type": "code",
   "execution_count": null,
   "metadata": {},
   "outputs": [],
   "source": [
    "#this is the function definition, which will usually be given to you\n",
    "def make_waffles(flour, water):\n",
    "    print(\"you gave me:\", flour, \"in the variable flour\")\n",
    "    print(\"you gave me:\", water, \"in the variable water\")\n",
    "    print(\"preparing your waffle\")\n",
    "    print(\"giving you back:\")\n",
    "    return \"a rather simple waffle\""
   ]
  },
  {
   "cell_type": "markdown",
   "metadata": {},
   "source": [
    "When you call a function, you give it <span style='color:Red'>arguments</span> for each of the <span style='color:Red'>parameters</span>. \n",
    "\n",
    "The difference between <span style='color:Red'>arguments</span> and <span style='color:Red'>parameters</span> can be a bit confusing, because they are very similar. <span style='color:Red'>Parameters</span> are the variables listed inside the parentheses in the function definition, and <span style='color:Red'>arguments</span> are the values given to those parameters when the function is called.\n",
    "\n",
    "We'll call <span style='font-family:Courier'>make_wafffles()</span> with the argument <span style='font-family:Courier'>\"wheat flour\"</span> for the parameter <span style='font-family:Courier'>flour</span> and the argument <span style='font-family:Courier'>\"water from the tap\"</span> for the parameter <span style='font-family:Courier'>water</span>:"
   ]
  },
  {
   "cell_type": "code",
   "execution_count": null,
   "metadata": {},
   "outputs": [],
   "source": [
    "#this is the function call\n",
    "make_waffles(\"wheat flour\", \"water from the tap\")"
   ]
  },
  {
   "cell_type": "markdown",
   "metadata": {},
   "source": [
    "You can also write the function call inside a <span style='font-family:Courier'>print()</span> function. This prints the output, <span style='font-family:Courier'>'a rather simple waffle'</span>, rather than returning it in a separate output line. Depending on the context, you may want to put your function call inside of a <span style='font-family:Courier'>print()</span>."
   ]
  },
  {
   "cell_type": "code",
   "execution_count": null,
   "metadata": {},
   "outputs": [],
   "source": [
    "#a function call that prints the output\n",
    "print(make_waffles(\"wheat flour\", \"water from the tap\"))"
   ]
  },
  {
   "cell_type": "markdown",
   "metadata": {},
   "source": [
    "By default, the first parameter is assigned the value of the first argument you give the function when you call it, the second parameter is assigned the value of the second argument, and so on. For example, if we switch the order of the arguments in the function call, it will assign <span style='font-family:Courier'>\"water from the tap\"</span> to the parameter <span style='font-family:Courier'>flour</span> and <span style='font-family:Courier'>\"wheat flour\"</span> to the parameter <span style='font-family:Courier'>water</span>:"
   ]
  },
  {
   "cell_type": "code",
   "execution_count": null,
   "metadata": {},
   "outputs": [],
   "source": [
    "make_waffles(\"water from the tap\",\"wheat flour\")"
   ]
  },
  {
   "cell_type": "markdown",
   "metadata": {},
   "source": [
    "However, you can override this by associating the argument with its parameter in the function call, for example:"
   ]
  },
  {
   "cell_type": "code",
   "execution_count": null,
   "metadata": {},
   "outputs": [],
   "source": [
    "make_waffles(water=\"water from the tap\",flour=\"wheat flour\")"
   ]
  },
  {
   "cell_type": "markdown",
   "metadata": {},
   "source": [
    "This assignment only works with parameters the function is expecting.  You will get an error if you try to assign a parameter that does not exist. For example:\n"
   ]
  },
  {
   "cell_type": "code",
   "execution_count": null,
   "metadata": {},
   "outputs": [],
   "source": [
    "make_waffles(orange=\"water from the tap\",flour=\"wheat flour\")"
   ]
  },
  {
   "cell_type": "markdown",
   "metadata": {},
   "source": [
    "Functions can also be written so that some parameters are optional. We'll define a new function called <span style='font-family:Courier'>make_pancakes()</span> that has required parameters <span style='font-family:Courier'>flour</span> and <span style='font-family:Courier'>water</span>, and optional parameters <span style='font-family:Courier'>baking_soda</span> and <span style='font-family:Courier'>add_ins</span>:\n"
   ]
  },
  {
   "cell_type": "code",
   "execution_count": null,
   "metadata": {},
   "outputs": [],
   "source": [
    "def make_pancakes(flour, water, baking_soda=\"the one from the pantry\", add_ins = \"bananas\"):\n",
    "    print(\"you gave me:\", flour, \"in the variable flour\")\n",
    "    print(\"you gave me:\", water, \"in the variable water\")\n",
    "    print(\"you gave me:\", baking_soda, \"in the variable baking_soda\")\n",
    "    print(\"you gave me:\", add_ins, \"in the variable add_ins\")\n",
    "    print(\"doing pancake things\")\n",
    "    print(\"giving you back:\")\n",
    "    return \"a pancake\"\n"
   ]
  },
  {
   "cell_type": "markdown",
   "metadata": {},
   "source": [
    "If you do not assign an argument to an optional parameter, the function will assume a default value. The default value for <span style='font-family:Courier'>baking_soda</span> was assigned using <span style='font-family:Courier'>=</span> in the definition (assigned in this case as <span style='font-family:Courier'>\"the one from the pantry\"</span>). Similarly, the default value for <span style='font-family:Courier'>add_ins</span> was assigned as <span style='font-family:Courier'>\"bananas\"</span>. If we call <span style='font-family:Courier'>make_pancakes()</span> without giving it an argument for <span style='font-family:Courier'>baking_soda</span> or <span style='font-family:Courier'>add_ins</span>, we get:"
   ]
  },
  {
   "cell_type": "code",
   "execution_count": null,
   "metadata": {},
   "outputs": [],
   "source": [
    "make_pancakes(\"wheat flour\", \"water from the tap\")"
   ]
  },
  {
   "cell_type": "markdown",
   "metadata": {},
   "source": [
    "Because we did not give an argument for the parameters <span style='font-family:Courier'>baking_soda</span> or <span style='font-family:Courier'>add_ins</span>, the function assumed you wanted the defaults.  However, you can override the default by assigning the parameter an argument in the call, using <span style='font-family:Courier'>=</span>:\n"
   ]
  },
  {
   "cell_type": "code",
   "execution_count": null,
   "metadata": {},
   "outputs": [],
   "source": [
    "make_pancakes(\"wheat flour\", \"water from the tap\", add_ins = \"chocolate chips\")\n"
   ]
  },
  {
   "cell_type": "markdown",
   "metadata": {},
   "source": [
    "Notice that in the function call above the parameter <span style='font-family:Courier'>baking_soda</span> kept its default value, while <span style='font-family:Courier'>add_ins</span> changed.\n",
    "\n",
    "A function like <span style='font-family:Courier'>make_pancakes()</span> has both parameters with and without a default argument value. For these functions, you have to put the arguments without a default first. If parameters without a default are missing, you will get an error like this:\n"
   ]
  },
  {
   "cell_type": "code",
   "execution_count": null,
   "metadata": {},
   "outputs": [],
   "source": [
    "make_pancakes(\"wheat flour\", baking_soda=\"the new one from the store\")"
   ]
  },
  {
   "cell_type": "markdown",
   "metadata": {},
   "source": [
    "In this class you will not have to write your own functions from scratch, but you will have to correctly use functions that we write for you and input your own arguments. \n",
    "\n",
    "### 11. In the cell below, call the <span style='font-family:Courier'>make_pancakes()</span> function with \"all purpose flour\", \"filtered water\", \"chocolate chips and bananas\", and the baking soda that is by default \"the one from the pantry\"."
   ]
  },
  {
   "cell_type": "code",
   "execution_count": null,
   "metadata": {},
   "outputs": [],
   "source": [
    "#your code here"
   ]
  },
  {
   "cell_type": "markdown",
   "metadata": {},
   "source": [
    "## Packages\n",
    "\n",
    "A lot of functions are built into Python, while others need to be loaded through other packages. In our tutorials, we will import packages to run some functions that are useful to us. In the cell below we import two common packages: numpy and matplotlib.pyplot. \n",
    "### 12. Run the cell below. It may take a second or two to run, because it is loading a lot of functions that are stored in each package. You will know it has finished running when you see a number, not a star, in the square brackets to the left of the code cell."
   ]
  },
  {
   "cell_type": "code",
   "execution_count": null,
   "metadata": {},
   "outputs": [],
   "source": [
    "import numpy\n",
    "import matplotlib.pyplot"
   ]
  },
  {
   "cell_type": "markdown",
   "metadata": {},
   "source": [
    "We will call a function from the <span style='font-family:Courier'>numpy</span> package: <span style='font-family:Courier'>numpy.sqrt()</span>. This function evaluates the square root of the argument. <span style='font-family:Courier'> "
   ]
  },
  {
   "cell_type": "code",
   "execution_count": null,
   "metadata": {},
   "outputs": [],
   "source": [
    "numpy.sqrt(4)"
   ]
  },
  {
   "cell_type": "markdown",
   "metadata": {},
   "source": [
    "If a package import command includes the word <span style='font-family:Courier'>as</span>, that means we are giving a shorter nickname to the package. The word after <span style='font-family:Courier'>as</span> is the nickname to use in all code going forward. It is faster to write <span style='font-family:Courier'>np.sqrt()</span> than <span style='font-family:Courier'>numpy.sqrt()</span>. \n",
    "\n",
    "Some packages are quite long, which makes the shortcuts much more useful. For example, we also loaded the package <span style='font-family:Courier'>matplotlib.pyplot</span>. We will use the function <span style='font-family:Courier'>matplotlib.pyplot.plot()</span> to plot data. If we nickname <span style='font-family:Courier'>matplotlib.pyplot as plt</span>, we can type the function call <span style='font-family:Courier'>plt.plot()</span> much faster. \n",
    "\n",
    "Let's reload the packages with the standard nicknames we will be using in these tutorials:"
   ]
  },
  {
   "cell_type": "code",
   "execution_count": null,
   "metadata": {},
   "outputs": [],
   "source": [
    "import numpy as np\n",
    "import matplotlib.pyplot as plt"
   ]
  },
  {
   "cell_type": "markdown",
   "metadata": {},
   "source": [
    "### 13. Run the code cells below. Full credit will be awarded for this question if the number 2 appears as output beneath the first code cell below and a plot of *x* versus *y* (defined above in Q6) appears as output beneath the second code cell below.\n",
    "\n",
    "If you get an error for the plot, go back and make sure you have defined the variables *x* and *y* in Q6."
   ]
  },
  {
   "cell_type": "code",
   "execution_count": null,
   "metadata": {},
   "outputs": [],
   "source": [
    "np.sqrt(4)"
   ]
  },
  {
   "cell_type": "code",
   "execution_count": null,
   "metadata": {},
   "outputs": [],
   "source": [
    "plt.plot(x,y, 'ro')\n",
    "plt.show()"
   ]
  },
  {
   "cell_type": "markdown",
   "metadata": {},
   "source": [
    "A lot of the functions we will give you in this class will take an array of data as an argument, and return some information about that data set (such as calculating the average of a set of repeated measurements). Let's practice this below.\n",
    "\n",
    "### 14.  In the <span style='font-family:Courier'>my_data</span> variable definition, create a numpy array that contains the following numbers: 2.1, 2.3, 2.6, 2.4. Hint: Use the structure <span style='font-family:Courier'>mydata = np.array([your data here])</span>. Full credit will be granted for correct use of the numpy array function and for the correct average, 2.35, displayed as output below the code cell. "
   ]
  },
  {
   "cell_type": "code",
   "execution_count": null,
   "metadata": {},
   "outputs": [],
   "source": [
    "my_data = ... #create a numpy array here\n",
    "\n",
    "def average(input_data):\n",
    "    #this function takes a data set and returns the average of the data\n",
    "    return np.sum(input_data)/len(input_data)\n",
    "\n",
    "average(my_data)"
   ]
  },
  {
   "cell_type": "markdown",
   "metadata": {},
   "source": [
    "In the code cell below, we define a new data set called by the variable name <span style='font-family:Courier'>more_data</span>. We then define a function that calculates the difference between the average of two data sets.\n",
    "\n"
   ]
  },
  {
   "cell_type": "code",
   "execution_count": null,
   "metadata": {},
   "outputs": [],
   "source": [
    "more_data = np.array([3.3,3.4,3.2])\n",
    "\n",
    "def difference_between_averages(data1, data2):\n",
    "    #this function finds the averages of the two data sets and returns the absolute value \n",
    "    #of the difference between the two averages\n",
    "    avg1 = np.sum(data1)/len(data1)\n",
    "    avg2 = np.sum(data2)/len(data2)\n",
    "    return np.abs(avg1-avg2)\n",
    "\n",
    "difference_between_averages(my_data, more_data)"
   ]
  },
  {
   "cell_type": "markdown",
   "metadata": {},
   "source": [
    "### 15. In the code cell below, make up your own data set. Store it under the variable name <span style='font-family:Courier'>my_data2</span>. Then write a function call that uses the <span style='font-family:Courier'>difference_between_averages()</span> function to find the difference between the average of <span style='font-family:Courier'>my_data</span> and <span style='font-family:Courier'>my_data2</span>."
   ]
  },
  {
   "cell_type": "code",
   "execution_count": null,
   "metadata": {},
   "outputs": [],
   "source": [
    "# define your own data set:\n",
    "\n",
    "# write a function call:\n"
   ]
  },
  {
   "cell_type": "markdown",
   "metadata": {},
   "source": [
    "### 16. Summarize the Intro to Python tutorial by explaining in your own words the terms: variable, array, function, function definition, function call, parameter, and argument. Write your answer in this markdown cell below this question."
   ]
  },
  {
   "cell_type": "markdown",
   "metadata": {},
   "source": [
    "Save your notebook with all your answers to the questions, modified code cells, and output from each code cell. Submit your notebook by uploading it to the Gradescope assignment."
   ]
  },
  {
   "cell_type": "markdown",
   "metadata": {},
   "source": []
  }
 ],
 "metadata": {
  "kernelspec": {
   "display_name": "Python 3",
   "language": "python",
   "name": "python3"
  },
  "language_info": {
   "codemirror_mode": {
    "name": "ipython",
    "version": 3
   },
   "file_extension": ".py",
   "mimetype": "text/x-python",
   "name": "python",
   "nbconvert_exporter": "python",
   "pygments_lexer": "ipython3",
   "version": "3.7.6"
  }
 },
 "nbformat": 4,
 "nbformat_minor": 2
}

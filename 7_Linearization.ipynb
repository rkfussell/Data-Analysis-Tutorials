{
 "cells": [
  {
   "cell_type": "markdown",
   "metadata": {},
   "source": [
    "# Linearization\n",
    "Developed by Professor Natasha Holmes for Cornell Physics Labs.\n",
    "\n",
    "Thus far, we’ve concerned ourselves mostly with linear relationships. Many physical phenomena, however, are non-linear. There are multiple ways to analyze non-linear data, but many of them require us to have some sense of the form of the relationship. Whenever possible, it is much easier to try to transform our data so that we can plot it to look like a straight line and use our linear fitting techniques. This is called \"linearizing\" our data.\n",
    "\n",
    "We’re going to consider two families of relationships: power laws and exponentials. A **power law function** is one where the variable ($x$) is at the base and raised to a constant power ($B$) and multiplied by a constant coefficient ($A$), such as: $$f\\left(x\\right)=Ax^B$$\n",
    "\n",
    "An **exponential function** has the variable ($x$) multiplied by a constant coefficient ($B$) in the exponent, all multiplied by a constant coefficient ($A$), such as:  $$f\\left(x\\right)={Ae}^{Bx}$$\n",
    "\n",
    "Linearization involves creating two types of plots using the **natural logarithm**: semi-log and log-log plots. Semi-log plots have the y-axis transformed to the natural logarithm (plotting $\\ln y$ vs. $x$), while log-log plots have both the x- and y-axes transformed to their natural logarithms (plotting $\\ln y$ vs. $\\ln x$). "
   ]
  },
  {
   "cell_type": "markdown",
   "metadata": {},
   "source": [
    "## 1. Why are these two types of graphs useful for distinguishing power law from exponential relationships? *Hint: which type of graph makes each type of function linear?*"
   ]
  },
  {
   "cell_type": "markdown",
   "metadata": {},
   "source": [
    "## 2. For each graph type that linearizes the function (power law or exponential), how would the slope and intercept in each case relate to the constants A and B from above? *Hint: Write out what $\\ln\\left(f\\left(x\\right)\\right)$ would be for each type of function and map it onto an equation for a straight line.*"
   ]
  },
  {
   "cell_type": "markdown",
   "metadata": {},
   "source": [
    "Run the code below to load some sample data. The code <span style= 'font-family:Courier'>%run ./utilities.ipynb</span> will load useful packages and pre-defined functions. If you get an error, make sure the file <span style= 'font-family:Courier'>utilities.ipynb</span> is downloaded to your computer into the same folder as this tutorial."
   ]
  },
  {
   "cell_type": "code",
   "execution_count": null,
   "metadata": {},
   "outputs": [],
   "source": [
    "#this is some imports you don't need to worry about.  \n",
    "%run ./utilities.ipynb\n",
    "\n",
    "x=[1,2,3,4,5,6,7,8,9,10]\n",
    "y=[3,9,21,33,50,77,103,130,166,205]\n",
    "dy=[2,4,2,4,2,4,2,4,2,4]\n",
    "\n",
    "x=np.array(x)\n",
    "y=np.array(y)\n",
    "dy=np.array(dy)\n"
   ]
  },
  {
   "cell_type": "markdown",
   "metadata": {},
   "source": [
    "Next, let's take the natural log of the x and y values and print all the values to a table (uncertainties are also propagated)."
   ]
  },
  {
   "cell_type": "code",
   "execution_count": null,
   "metadata": {},
   "outputs": [],
   "source": [
    "lny=np.log(y)\n",
    "dlny=dy/y\n",
    "lnx=np.log(x)\n",
    "\n",
    "data = {'x':x,'y':y, 'dy':dy, 'ln x': lnx, 'ln y': lny, 'd ln y': dlny}\n",
    "pd.DataFrame(data=data)"
   ]
  },
  {
   "cell_type": "markdown",
   "metadata": {},
   "source": [
    "Run the code below to display three different plots: one with linear scales ($y$ vs $x$), one with semi-log scales ($\\ln y$ vs $x$), and one with log-log scales ($\\ln y$ vs $\\ln x$)."
   ]
  },
  {
   "cell_type": "code",
   "execution_count": null,
   "metadata": {},
   "outputs": [],
   "source": [
    "plt.figure()\n",
    "plt.subplot(1, 3, 1)\n",
    "plt.errorbar(x,y, dy, fmt='.')\n",
    "plt.plot()\n",
    "plt.title(\"Linear scale: y vs x\")\n",
    "\n",
    "\n",
    "plt.subplot(1, 3, 2)\n",
    "plt.errorbar(x,lny, dlny, fmt='.')\n",
    "plt.plot()\n",
    "plt.title(\"semi-log: ln y vs x\")\n",
    "\n",
    "\n",
    "plt.subplot(1, 3, 3)\n",
    "plt.errorbar(lnx,lny, dlny, fmt='.')\n",
    "plt.plot()\n",
    "plt.title(\"log-log: ln y vs ln x\")\n",
    "plt.show()"
   ]
  },
  {
   "cell_type": "markdown",
   "metadata": {},
   "source": [
    "### 3. Examine the three graphs produced qualitatively. Do you think $x$ and $y$ are related linearly, exponentially, or according to a power law? Please explain your reasoning."
   ]
  },
  {
   "cell_type": "markdown",
   "metadata": {},
   "source": [
    "Now let's run our fitting function on the three plots.\n",
    "\n",
    "### 4. Replace the ... in the code block below to produce the linear fit, the semi-log fit, and the log-log fit."
   ]
  },
  {
   "cell_type": "code",
   "execution_count": null,
   "metadata": {},
   "outputs": [],
   "source": [
    "autoFit(x=x, y=y, dy=dy, title=\"Linear fit\",xaxis=\"x\", yaxis=\"y\")\n",
    "\n",
    "autoFit(x=x, y=..., dy=..., title=\"Semi-log fit\", xaxis=\"x\", yaxis=\"lny\")\n",
    "\n",
    "autoFit(x=..., y=..., dy=..., title=\"log-log fit\",xaxis=\"lnx\", yaxis=\"lny\" )"
   ]
  },
  {
   "cell_type": "markdown",
   "metadata": {},
   "source": [
    "### 5. Examine the three fits produced quantitatively. Do you think $x$ and $y$ are related linearly, exponentially, or according to a power law? Please explain your reasoning."
   ]
  },
  {
   "cell_type": "markdown",
   "metadata": {},
   "source": [
    "### 6. Use the information from the best fit above to draw a preliminary conclusion for an approximate relationship between $x$ and $y$, using the graphs to estimate numerical valuse for any relevant constants."
   ]
  },
  {
   "cell_type": "markdown",
   "metadata": {},
   "source": [
    "### 7. Now plot the best fit function f along with the data on the linear scale.  (Fill in A and B, and then choose which definition for f fits the relationship between x and y).  Does it look like the function matches?  "
   ]
  },
  {
   "cell_type": "code",
   "execution_count": null,
   "metadata": {},
   "outputs": [],
   "source": [
    "plt.figure()\n",
    "A=...\n",
    "B=...\n",
    "\n",
    "x_best_fit=np.linspace(0,10)\n",
    "\n",
    "\n",
    "\n",
    "\n",
    "#choose one of these... comment out the other using a # \n",
    "f=A*x_best_fit**B  #power law\n",
    "f=A*np.e**(B*x_best_fit) #exponential\n",
    "\n",
    "\n",
    "\n",
    "plt.title(\"\")\n",
    "plt.errorbar(x,y, dy, fmt='.', label=\"data\")\n",
    "plt.plot(x_best_fit, f, label=\"f(x)\")\n",
    "plt.legend()\n",
    "plt.xlabel(\"x\")\n",
    "plt.ylabel(\"y\")\n",
    "plt.show()\n"
   ]
  },
  {
   "cell_type": "markdown",
   "metadata": {},
   "source": [
    "### 8. Summarize, in your own words, why linearizing through log-log and semi-log plots is helpful for identifying non-linear relationships."
   ]
  },
  {
   "cell_type": "markdown",
   "metadata": {},
   "source": [
    "Save your notebook with all your answers to the questions, modified code cells, and output from each code cell. Submit your notebook by uploading it to the Gradescope assignment."
   ]
  },
  {
   "cell_type": "code",
   "execution_count": null,
   "metadata": {},
   "outputs": [],
   "source": []
  }
 ],
 "metadata": {
  "kernelspec": {
   "display_name": "Python 3",
   "language": "python",
   "name": "python3"
  },
  "language_info": {
   "codemirror_mode": {
    "name": "ipython",
    "version": 3
   },
   "file_extension": ".py",
   "mimetype": "text/x-python",
   "name": "python",
   "nbconvert_exporter": "python",
   "pygments_lexer": "ipython3",
   "version": "3.7.6"
  }
 },
 "nbformat": 4,
 "nbformat_minor": 4
}

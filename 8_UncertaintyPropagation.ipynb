{
 "cells": [
  {
   "cell_type": "markdown",
   "metadata": {},
   "source": [
    "# Uncertainty propagation\n",
    "Developed by Natasha Holmes for Cornell Physics Labs.\n",
    "\n",
    "In the data analysis activities so far, we’ve dealt with different types of uncertainty (for example, variability from repeated measurements or instrumental precision). For the most part, we’ve looked at the uncertainty in the raw measurements themselves.\n",
    "\n",
    "Now that we are linearizing our data, however, we need to think about what happens to the uncertainty when we manipulate the variable. "
   ]
  },
  {
   "cell_type": "markdown",
   "metadata": {},
   "source": [
    "\n",
    "### 1. Take a standard ruler (or a digital ruler) and some blank lined paper. Measure the distance between the first and last line on the page with an estimate of the uncertainty (approximately half the smallest division on the ruler). Report that value here. \n"
   ]
  },
  {
   "cell_type": "markdown",
   "metadata": {},
   "source": [
    "### 2.\tMeasure the distance between two consecutive lines with uncertainty and multiply it by the number of lines between the first and last line on the page to estimate that total distance."
   ]
  },
  {
   "cell_type": "markdown",
   "metadata": {},
   "source": [
    "### 3.\tWhich measurement do you think is more precise and why?"
   ]
  },
  {
   "cell_type": "markdown",
   "metadata": {},
   "source": [
    "In the second case, we say that the uncertainty from the single measurement is *propagated* (i.e., transmitted) through each single line that makes up the full distance. This process is similar to what we found with the period of a pendulum measurement: if you measure the time for a single period and conduct 10 repeated trials, the uncertainty from starting and stopping the stopwatch is repeated (compounded) each time. Whereas, if you measure the time for 10 swings of the pendulum, the uncertainty from starting and stopping the stopwatch only happens once.\n",
    "\n",
    "But propagating uncertainty comes up a lot more than just in repeated measurements of the same quantity.\n",
    "\n",
    "For example, often, we want to calculate a quantity from multiple different types of measurements, each of which has its own source of uncertainty. \n",
    "\n",
    "## Adding and subtracting measurements\n",
    "\n",
    "If you have recorded two measurements, $A\\pm\\delta A$ and $B\\pm\\delta B$, and are determining the sum $R = A + B$ or difference $R = A - B$, we estimate the uncertainty in $R$ as: \n",
    "\n",
    "$$\\delta R=\\sqrt{{\\delta A}^2+{\\delta B}^2}$$\n",
    "\n",
    "This applies whether adding or subtracting $A$ and $B$; their uncertainties are always **added** quadratically. (Note: This idea is used in our definition of $t^\\prime$.)\n",
    "\n",
    "You might expect the uncertainties $\\delta A$ and $\\delta B$ simply to add, but this would overestimate the uncertainty $\\delta R$ because random fluctuations in $A$ and $B$ aren't correlated, i.e., they don't always occur in the same directions. "
   ]
  },
  {
   "cell_type": "markdown",
   "metadata": {},
   "source": [
    "## Multiplying and dividing measurements\n",
    "\n",
    "If you have recorded two measurements, $A\\pm\\delta A$ and $B\\pm\\delta B$, and are determining the product $R = AB$ or quotient $R = A/B$, we estimate the uncertainty in $R$ as:\n",
    "\n",
    "$$\\delta R=\\left|R\\right|\\sqrt{\\left(\\frac{\\delta A}{A}\\right)^2+\\left(\\frac{\\delta B}{B}\\right)^2}.$$\n",
    "\n",
    "Remember, $\\left|R\\right| = \\left|AB\\right|$ if you are determining the product and $\\left|R\\right| = \\left|A/B\\right|$ if you are determining the quotient.\n",
    "\n",
    "This works for multiplication and division of any number of quantities that have uncertainty. Multipyling or dividing by a new measurement simply adds a new term. For example, if $R=\\frac{AB}{C}$ then:\n",
    "$$\\delta R=\\left|\\frac{AB}{C}\\right|\\sqrt{\\left(\\frac{\\delta A}{A}\\right)^2+\\left(\\frac{\\delta B}{B}\\right)^2+\\left(\\frac{\\delta C}{C}\\right)^2}$$"
   ]
  },
  {
   "cell_type": "markdown",
   "metadata": {},
   "source": [
    "## Raising a measurement to a constant power\n",
    "\n",
    "If you’re raising a quantity with uncertainty, $X\\pm\\delta X$, to a constant power $n$ such that $R=X^n$, then the uncertainty is:\n",
    "\n",
    "$$\\delta R=\\left|n\\right|\\frac{\\delta X}{\\left|X\\right|}|R|$$\n",
    "\n",
    "Calculation of uncertainty through powers should be completed before uncertainty is calculated for multiplications, additions, etc."
   ]
  },
  {
   "cell_type": "markdown",
   "metadata": {},
   "source": [
    "## Example problems\n",
    "\n",
    "In calculating a value for kinetic energy $K=\\frac{1}{2}mv^2$, the uncertainty in $v^2$ should be calculated first: \n",
    "\n",
    "$$\\delta(v^2)=2\\frac{\\delta v}{\\left|v\\right|}v^2$$\n",
    "\n",
    "(reminder: the left-hand-side should be read as \"the uncertainty in $v^2$\", not \"the uncertainty times $v^2$\")\n",
    "\n",
    "Then the uncertainty in K would be calculated: \n",
    "$$\\delta K=K\\sqrt{\\left(\\frac{\\delta m}{m}\\right)^2+\\left(\\frac{\\delta(v^2)}{v^2}\\right)^2}=K\\sqrt{\\left(\\frac{\\delta m}{m}\\right)^2+\\left(\\frac{2\\delta v}{v}\\right)^2}$$\n",
    "\n",
    "No uncertainty term is included for the factor of 1/2, because we assume it is exact (uncertainty = 0). \n",
    "\n",
    "If the mass $m$ happened to be the difference of two measured masses, $m=m_1-m_2$, then $\\delta m=\\sqrt{{\\delta m}_1^2+{\\delta m}_2^2}$."
   ]
  },
  {
   "cell_type": "markdown",
   "metadata": {},
   "source": [
    "### 4. In measuring the area of a square, you could calculate its area by measuring $x$, the length of one side, and using the formula $A=x^2$. Or, you could measure each side $x$ and $y$ and find the area with $A=xy$. Which method of deriving the area would have the lesser uncertainty, according to both your intuition and the actual expressions? How might we make sense of the result from the expressions? \n"
   ]
  },
  {
   "cell_type": "markdown",
   "metadata": {},
   "source": [
    "## General rule for propagation\n",
    "Each of these “propagation rules” comes from a more general rule. In general, if you are computing any function, $R = f(X1, X2, … Xn)$, where each $X_i$ has associated uncertainty $\\delta X_i$, then:\n",
    "\n",
    "$$\\delta R=\\sqrt{\\left(\\frac{\\partial f}{\\partial X_1}\\bullet\\delta X_1\\right)^2+\\left(\\frac{\\partial f}{\\partial X_2}\\bullet\\delta X_2\\right)^2+\\ldots\\left(\\frac{\\partial f}{\\partial X_n}\\bullet\\delta X_n\\right)^2}\\ $$\n",
    "\n",
    "We can show that this relationship generates the three “rules” above. For example, for $R = A + B$:\n",
    "\n",
    "$$\\delta R=\\sqrt{\\left(\\frac{\\partial R}{\\partial A}\\bullet\\delta A\\right)^2+\\left(\\frac{\\partial R}{\\partial B}\\bullet\\delta B\\right)^2}=\\sqrt{{\\delta A}^2+{\\delta B}^2}$$\n",
    "\n",
    "because each derivative is equal to 1. \n",
    "\n",
    "For the next three questions, you can use LaTeX formatting to enter equations in this markdown cell, or you can work them out on paper and upload a pdf or photo of your work with the assignment (whichever will be quicker for you!)."
   ]
  },
  {
   "cell_type": "markdown",
   "metadata": {},
   "source": [
    "### 5. Show that the general rule with derivatives reproduces the rules above for multiplication. (We'll leave it as an exercise to check the others)"
   ]
  },
  {
   "cell_type": "markdown",
   "metadata": {},
   "source": [
    "### 6. As practice, propagate uncertainty through the following functions for the measurements $x\\pm \\delta x$ and $y\\pm \\delta y$. The capital letters in each case are constants (no uncertainty). \n",
    "\n",
    "#### a) \t$R_1 = f\\left(x,y\\right)=Ax^2y$  \n",
    "\n",
    "#### b) $R_2 = f\\left(x\\right) = \\ln x$\n",
    "\n",
    "#### c) $R_3 = f\\left(x,y\\right)= C\\left(\\sin x\\right) + y$\n",
    "\n",
    "NOTE: The rule in *b)* is what you will need for propagating uncertainty through our linearization methods."
   ]
  },
  {
   "cell_type": "markdown",
   "metadata": {},
   "source": [
    "### 7. For each of the functions in Q6, what do the uncertainties reduce to if the uncertainty in $x$ (i.e., $\\delta x$) is very small (i.e., $\\delta x \\lll 1$)?\n"
   ]
  },
  {
   "cell_type": "markdown",
   "metadata": {},
   "source": [
    "Finally, we've defined some of the most common propagation functions you'll need in the file called <span style= 'font-family:Courier'>utilities.ipynb<span style= 'font-family:Courier'> (if you do not have utilities.ipynb downloaded, download it now and put it in the same directory this file is in).\n",
    "\n",
    "### 8. Use your measurements from Q1 and Q2 to define two measurements $x \\pm \\delta x$ and $y \\pm \\delta y$. Define them in the code below (filling in the ...)"
   ]
  },
  {
   "cell_type": "code",
   "execution_count": null,
   "metadata": {},
   "outputs": [],
   "source": [
    "%run ./utilities.ipynb\n",
    "\n",
    "#record your measurements here:\n",
    "x = ...\n",
    "dx = ...\n",
    "y = ...\n",
    "dy = ..."
   ]
  },
  {
   "cell_type": "markdown",
   "metadata": {},
   "source": [
    "In the code cell below, we will calculate the uncertainty in each time of pre-defined uncertainty propagation formula. Each function calls for each measurement and its uncertainty in order (we have filled in the call for the uncertainty in the sum of $x$ and $y$ as an example). \n",
    "\n",
    "### 9. Fill in the ... to find the uncertainty in each different calculation."
   ]
  },
  {
   "cell_type": "code",
   "execution_count": null,
   "metadata": {},
   "outputs": [],
   "source": [
    "# an example for summation (R=x+y), 4 arguments (each measurement with its uncertainty)\n",
    "print(dsum(x,dx,y,dy))\n",
    "\n",
    "# an example for subtraction (R=x-y), 4 arguments (as above)\n",
    "print(dsub(x,dx,...))\n",
    "\n",
    "# an example for product (R=x*y), 4 arguments (as above)\n",
    "print(dmult(...))\n",
    "\n",
    "# an example for quotient (R=x/y), 4 arguments (as above)\n",
    "print(ddiv(...))\n",
    "\n",
    "# an example for raising to to a constant power ($R=x^n$, use n=2), 3 arguments (measurement with its uncertainty and the power)\n",
    "print(dpwr(...))\n",
    "\n",
    "# an example for $ln x$, 2 arguments (measurement with its uncertainty)\n",
    "print(dln(...))\n",
    "\n"
   ]
  },
  {
   "cell_type": "markdown",
   "metadata": {},
   "source": [
    "### 10. In your own words, explain why propagating uncertainty is common and important in data analysis.\n"
   ]
  },
  {
   "cell_type": "markdown",
   "metadata": {},
   "source": [
    "Save your notebook with all your answers to the questions, modified code cells, and output from each code cell. Submit your notebook by uploading it to the Gradescope assignment."
   ]
  },
  {
   "cell_type": "markdown",
   "metadata": {},
   "source": []
  }
 ],
 "metadata": {
  "kernelspec": {
   "display_name": "Python 3",
   "language": "python",
   "name": "python3"
  },
  "language_info": {
   "codemirror_mode": {
    "name": "ipython",
    "version": 3
   },
   "file_extension": ".py",
   "mimetype": "text/x-python",
   "name": "python",
   "nbconvert_exporter": "python",
   "pygments_lexer": "ipython3",
   "version": "3.7.4"
  }
 },
 "nbformat": 4,
 "nbformat_minor": 4
}

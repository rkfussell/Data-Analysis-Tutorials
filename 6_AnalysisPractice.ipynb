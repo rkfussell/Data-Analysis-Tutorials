{
 "cells": [
  {
   "cell_type": "markdown",
   "metadata": {},
   "source": [
    "# Analysis practice\n",
    "\n",
    "Developed by Natasha Holmes for Cornell Physics Labs.\n",
    "\n",
    "This exercise aims to remind you or familiarize you with some quantitative analysis tools that will be useful in this course. Please refer to the Statistics Summary on Canvas for guidance or check in with your TA or teammates for help. These questions refer to the data in the table, which we will assume were collected previously from an experiment where the researchers expected that the relationship between $x$ and $y$ was modeled as $y=8x-5$.\n",
    "\n",
    "| x | y | dy | \n",
    "|----------|:-------------:|------:|\n",
    "| 1| 3 | 1|\n",
    "| 2| 6 | 3|\n",
    "| 3| 19 | 4|\n",
    "| 4| 33 | 10|\n",
    "| 5| 42 | 10|\n",
    "| 6| 47 | 4|\n",
    "| 7| 59 | 3|\n",
    "| 8| 72 | 1|\n",
    "| 9| 74 | 7|\n",
    "| 10| 80| 2|\n",
    "\n",
    "\n",
    "\n",
    "\n",
    "First, we will check whether the measurements of $y$ at $x = 1$ and $x = 2$ are distinguishable within uncertainties. To do this, we use the following function:\n",
    "\n",
    "$$t^\\prime = \\frac{\\left|A - B\\right|}{\\sqrt{\\delta A^2 + \\delta B^2}}$$\n",
    "\n",
    "which takes the difference between the two measurement values ($A$ and $B$) divided by the square root of the combined uncertainties (where $\\delta A$ is the uncertainty in $A$ and $\\delta B$ is the uncertainty in $B$). We combine the uncertainties by adding them *in quadrature* (i.e., we add the square of each uncertainty).\n",
    "\n",
    "\n",
    "If we have two sets of measurements of the same physical phenomenon, we would expect the means to be within one unit of uncertainty of eachother 68% of the time.  Therefore, we would expect to see a t' value of approximately 1 on average.  \n",
    "\n",
    "After calculating $t'$ for two measurements, you can evaluate their disimilarity (or distinguishability) through the following interpretation:\n",
    "\n",
    "\n",
    "1.  $t'\\approx1$  If we have two sets of measurements and a t' value of approximately 1, then the sets are indistinguishible and they may represent the same physical phenomenon.   \n",
    "\n",
    "2.  $t'<<1$  If we have a t' value of much less than 1, then it is possible that either we overestimated our uncertainties, or that our current level of precision is not good enough for the phenomenon that we are trying to measure.  \n",
    "\n",
    "3.  $1\\lesssim t'<3$  This is a grey area.  It is still possible that our two sets of measurements are coming from the same phenomenon, but it is less likely than if our t' is somewhere close to 1. \n",
    "\n",
    "4.  $t' >3$ If our t' is greater than 3, then it is unlikely that our two sets of measurements were measuring the same phenomena.  This means that we have distinguished between two sets of physical phenomena.  \n",
    "\n",
    "\n",
    "NOTE: $|t'| \\le 1$ **does not** mean that A and B are the same. It only tells us that, we cannot distinguish them with the given data. For example, if you do a better measurement and decrease the uncertainties, you might later uncover a difference between A and B. That is, poor precision may be hiding a subtle difference!"
   ]
  },
  {
   "cell_type": "markdown",
   "metadata": {},
   "source": [
    "### 1. Using whatever software or technology you're comfortable with (e.g., calculator, excel), determine whether the measurements of $y$ at $x = 1$ and $x = 2$ are distinguishable using a $t^\\prime$. "
   ]
  },
  {
   "cell_type": "markdown",
   "metadata": {},
   "source": [
    "In the code below, we've called a notebook that defines a Python code to calculate $t^\\prime$ from given inputs. The function is defined so that you enter each measurement and its uncertainty all separated by commas. That is, if we measured two values $A \\pm \\delta A = 5 \\pm 1$ and $B \\pm \\delta B = 2 \\pm 3$, we would call $t^\\prime$ by typing:  **print(t_prime(5,1,2,3)**\n",
    "\n",
    "### 2. Replace the ... with the relevant measurements and uncertainties to use the function to determine whether the measurements of $y$ at $x = 1$ and $x = 2$ are distinguishable. \n",
    "Check whether your value here is the same as your value in Q1. If not, check your calculations above and/or how you entered the measurements below."
   ]
  },
  {
   "cell_type": "code",
   "execution_count": null,
   "metadata": {},
   "outputs": [],
   "source": [
    "%run ./utilities.ipynb\n",
    "\n",
    "# an example of using t_prime\n",
    "print(t_prime(...))\n"
   ]
  },
  {
   "cell_type": "markdown",
   "metadata": {},
   "source": [
    "Next, we'll plot the measurements of $x$ and $y$ to qualitatively evaluate whether the relationship between $x$ and $y$ is modeled as $y=8x-5$. First, let's load the data into separate arrays for x, y, and dy (the uncertainty in y).\n",
    "\n",
    "### 3. Replace the ... with the relevant measurements and uncertainties for each variable, with each value separated by a comma. We've filled in the data for $x$ as an example."
   ]
  },
  {
   "cell_type": "code",
   "execution_count": null,
   "metadata": {},
   "outputs": [],
   "source": [
    "x=[1,2,3,4,5,6,7,8,9,10]\n",
    "y=[...]\n",
    "dy=[...]\n"
   ]
  },
  {
   "cell_type": "markdown",
   "metadata": {},
   "source": [
    "The code below will allow you plot the paired values of $x$, $y$, and the uncertainty in $y$.\n",
    "\n",
    "### 4. Run the code below to generate a plot of the data ($y$ versus $x$, with the uncertainties in y). "
   ]
  },
  {
   "cell_type": "code",
   "execution_count": null,
   "metadata": {},
   "outputs": [],
   "source": [
    "#converts x and y to numpy arrays.  \n",
    "x=np.array(x)\n",
    "y=np.array(y)\n",
    "dy=np.array(dy)\n",
    "\n",
    "plt.figure()\n",
    "plt.errorbar(x,y, dy, fmt='.')\n",
    "plt.title(\"y vs x\")\n",
    "plt.show()"
   ]
  },
  {
   "cell_type": "markdown",
   "metadata": {},
   "source": [
    "From the plot, but without fitting a line, we can qualitatively see that the relationship between $x$ and $y$ appears fairly linear. We'll explore two ways to check how well the data fit the function $f(x)=8x-5$. Please refer to the Statistics Summary on Canvas for more information about least-squares fitting.\n",
    "\n",
    "First, we can find the $\\chi^2$ value between the line $f(x)=8x-5$ and the data. Second, we can find the best fitting line and compare the best-fitting parameters to the proposed fit parameters.\n",
    "\n",
    "Run the code below and uncheck the box that says \"fit\". Change the values of the intercept and the slope to compare the data to the fit line $f(x)=8x-5$."
   ]
  },
  {
   "cell_type": "code",
   "execution_count": null,
   "metadata": {
    "scrolled": false
   },
   "outputs": [],
   "source": [
    "autoFit(x=x, y=y, dy=dy, title=\"Manual fit y vs x\")"
   ]
  },
  {
   "cell_type": "markdown",
   "metadata": {},
   "source": [
    "### 5. What is the $\\chi^2$ value between the data and a fit line $f(x)=8x-5$? What does this say about how well the line $f(x)=8x-5$ fits to the data?"
   ]
  },
  {
   "cell_type": "markdown",
   "metadata": {},
   "source": [
    "The code below will use least-squares fitting methods to automatically find the best-fitting line through the data.\n",
    "\n",
    "### 6. Run the code below find the best-fitting line to the data. Using the $\\chi^2$  value, the plot, and the residual graph, how well do you think the line fits to the data?"
   ]
  },
  {
   "cell_type": "code",
   "execution_count": null,
   "metadata": {
    "scrolled": true
   },
   "outputs": [],
   "source": [
    "autoFit(x=x, y=y, dy=dy, title=\"Auto-fit y vs x\")"
   ]
  },
  {
   "cell_type": "markdown",
   "metadata": {},
   "source": [
    "### 7. Use the uncertainties in the fit parameters to compare each fit parameter to the predicted values (slope = 8 and intercept = -5) using a $t^\\prime$, filling in the ... in the cell below.  Hint:  What are the uncertainties on your model when no measurement is involved?  "
   ]
  },
  {
   "cell_type": "code",
   "execution_count": null,
   "metadata": {},
   "outputs": [],
   "source": [
    "#slope\n",
    "print(\"t' between theoretical and measured slopes:\")\n",
    "print(t_prime(...))\n",
    "\n",
    "#intercept\n",
    "print(\"t' between theoretical and measured intercepts:\")\n",
    "print(t_prime(...))"
   ]
  },
  {
   "cell_type": "markdown",
   "metadata": {},
   "source": [
    "### 8. Given the researchers expectation for the relationship, what are three reasonable things the researchers could do next?"
   ]
  },
  {
   "cell_type": "markdown",
   "metadata": {},
   "source": [
    "Save your notebook with all your answers to the questions, modified code cells, and output from each code cell. Submit your notebook by uploading it to the Gradescope assignment."
   ]
  },
  {
   "cell_type": "code",
   "execution_count": null,
   "metadata": {},
   "outputs": [],
   "source": []
  }
 ],
 "metadata": {
  "kernelspec": {
   "display_name": "Python 3",
   "language": "python",
   "name": "python3"
  },
  "language_info": {
   "codemirror_mode": {
    "name": "ipython",
    "version": 3
   },
   "file_extension": ".py",
   "mimetype": "text/x-python",
   "name": "python",
   "nbconvert_exporter": "python",
   "pygments_lexer": "ipython3",
   "version": "3.7.4"
  }
 },
 "nbformat": 4,
 "nbformat_minor": 4
}

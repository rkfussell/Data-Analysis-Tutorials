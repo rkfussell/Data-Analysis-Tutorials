{
 "cells": [
  {
   "cell_type": "markdown",
   "metadata": {},
   "source": [
    "First we will copy in the packages and functions from the Distinguishability homework. Run the cell below."
   ]
  },
  {
   "cell_type": "code",
   "execution_count": null,
   "metadata": {},
   "outputs": [],
   "source": [
    "import numpy as np\n",
    "import matplotlib.pyplot as plt\n",
    "\n",
    "def standard_deviation(data):\n",
    "    N = len(data)\n",
    "    return np.sqrt(np.sum((data - np.mean(data))**2)/(N-1))\n",
    "\n",
    "def standard_unc_of_mean(data):\n",
    "    N = len(data)\n",
    "    return standard_deviation(data) / np.sqrt(N)\n",
    "\n",
    "def t_prime(A, dA, B, dB):\n",
    "    return abs(A - B) / np.sqrt(dA**2 + dB**2)"
   ]
  },
  {
   "cell_type": "markdown",
   "metadata": {},
   "source": [
    "Enter each dataset you collect in lab into a separate array. If you collect more than two data sets, simply copy and paste the code and be sure to give each dataset a new variable name."
   ]
  },
  {
   "cell_type": "code",
   "execution_count": null,
   "metadata": {},
   "outputs": [],
   "source": [
    "#data_example = np.array([1.14,1.22,1.05,1.32,1.27])\n",
    "data1 = np.array([..., ..., ...,]) #replace each ... with a datapoint\n",
    "data2 = np.array([..., ..., ...,])\n"
   ]
  },
  {
   "cell_type": "markdown",
   "metadata": {},
   "source": [
    "Use the example below to calculate the mean and uncertainty of the mean in every data set you collected. "
   ]
  },
  {
   "cell_type": "code",
   "execution_count": null,
   "metadata": {},
   "outputs": [],
   "source": [
    "#calculate mean and uncertainty in the mean of each data set\n",
    "mean1 = numpy.np(data1)\n",
    "unc1 = standard_unc_of_mean(...)\n",
    "print(\"mean is \" + str(mean) + \" +/- \" + str(unc))\n",
    "\n",
    "#to calculate more mean and uncertainty for more datasets, copy and paste the three lines of code above for each data set\n",
    "\n"
   ]
  },
  {
   "cell_type": "markdown",
   "metadata": {},
   "source": [
    "Enter the means and uncertainties in the appropriate order below to make a t' comparison. If you are making multiple t' comparisons, write additional t' function calls. "
   ]
  },
  {
   "cell_type": "code",
   "execution_count": null,
   "metadata": {},
   "outputs": [],
   "source": [
    "#are they distinguishable?\n",
    "tp = t_prime(..., ..., ..., ...)\n",
    "print(\"t prime value is \" + str(tp))"
   ]
  },
  {
   "cell_type": "markdown",
   "metadata": {},
   "source": [
    "To visualize your datasets, use the histogram plotting function below."
   ]
  },
  {
   "cell_type": "code",
   "execution_count": null,
   "metadata": {},
   "outputs": [],
   "source": [
    "plt.figure();\n",
    "plt.hist(data1)\n",
    "\n",
    "#copy and paste the two lines of code above for each data set you wish to visualize"
   ]
  }
 ],
 "metadata": {
  "kernelspec": {
   "display_name": "Python 3",
   "language": "python",
   "name": "python3"
  },
  "language_info": {
   "codemirror_mode": {
    "name": "ipython",
    "version": 3
   },
   "file_extension": ".py",
   "mimetype": "text/x-python",
   "name": "python",
   "nbconvert_exporter": "python",
   "pygments_lexer": "ipython3",
   "version": "3.7.4"
  }
 },
 "nbformat": 4,
 "nbformat_minor": 2
}
